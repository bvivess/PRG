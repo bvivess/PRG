{
 "cells": [
  {
   "cell_type": "markdown",
   "id": "d8fb82a5-48cb-4fd9-87ba-3c79a46fec58",
   "metadata": {
    "tags": []
   },
   "source": [
    "# Activitat 1.\n",
    "\n",
    "Agafa les dades de la llista bidimensional i transforma-ho a un diccionari on:\n",
    "\n",
    "* La clau de l'element sigui el nombre de rank.\n",
    "* El valor sigui un diccionari amb la informació que veuras més abaix, inclòs el zipcode (codi postal) separat de la resta de l'adreça\n",
    "* Les dades comunes del restaurant es trobaran al nivell del propi restaurant.\n",
    "* Els comentaris del restaurant es trobaran en forma de llista de comentaris\n",
    "* En poder tenir més d'un estil, també tendrem els estil en forma de llista.\n",
    "* Els preus són substituïts per símbols d'euro.\n",
    "\n",
    "Abaix trobaras com han de quedar les dades (sols havent carregat uns pocs comentaris)."
   ]
  },
  {
   "cell_type": "code",
   "execution_count": 52,
   "id": "3af01b6b-b582-4f11-a61e-75e2729b4ffd",
   "metadata": {
    "tags": []
   },
   "outputs": [],
   "source": [
    "import csv\n",
    "\n",
    "yelp = []\n",
    "\n",
    "i = 0\n",
    "with open('/a.csv', 'r',  encoding='utf8') as file:\n",
    "    csvreader = csv.reader(file)\n",
    "    next(csvreader, None) #omitim capçalera\n",
    "    \n",
    "    for row in csvreader:\n",
    "        i = i + 1\n",
    "        yelp.append(row)\n",
    "        if i == 10000:\n",
    "            break"
   ]
  },
  {
   "cell_type": "code",
   "execution_count": 53,
   "id": "21679634-43bf-40a1-8169-0cfb0c3f511e",
   "metadata": {
    "tags": []
   },
   "outputs": [],
   "source": [
    "# es crea un diccionari de sortida, inicialment buit\n",
    "dict_final = {}\n",
    "\n",
    "# iteram sobre la llista bidimensional\n",
    "for linia in yelp:\n",
    "    rest_id = linia[0]\n",
    "    comen_dataInicial = linia[1]\n",
    "    comen_dataCarrega = linia[2]\n",
    "    rest_nom = linia[3]\n",
    "    comen_desc = linia[4]\n",
    "    rest_adreca = linia[5]                  # cal fer split !!\n",
    "    rest_punts = float(linia[6])            # convertir a float\n",
    "    rest_numRes = int(linia[7])             # convertir a int\n",
    "    rest_estils = linia[8].split(', ')      # convertir els tipus en una llista \n",
    "    rest_preu = linia[9].replace('$', '€')  # canvia el símbol de dólar per euro en el preu\n",
    "    \n",
    "    comen_dcomentari = {\n",
    "        'data': comen_dataInicial,\n",
    "        'data_carrega': comen_dataCarrega,\n",
    "        'cos': comen_desc\n",
    "    }\n",
    "    \n",
    "    if rest_id in dict_final:\n",
    "        # es modifica la clau, afegint un nou comentari a la llista 'comentaris'\n",
    "        dict_final[rest_id]['comentaris'].append(comen_dcomentari)\n",
    "    else:\n",
    "        # inserim nova clau:valor al diccionari\n",
    "        dict_final[rest_id] = {\n",
    "            'nom': rest_nom,\n",
    "            'adreça': rest_adreca,\n",
    "            'puntuacio': rest_punts,\n",
    "            'nombre_ressenyes': rest_numRes,\n",
    "            'estils': rest_estils,\n",
    "            'preu': rest_preu,\n",
    "            'comentaris': [comen_dcomentari]\n",
    "        }"
   ]
  },
  {
   "cell_type": "markdown",
   "id": "7ffb0f9e-03df-4d9a-8681-d289519ee53b",
   "metadata": {},
   "source": [
    "# Activitat 2.\n",
    "\n",
    "Crea una funció que filtri els restaurants segons puntuació.\n",
    "\n",
    "Aquesta es donarà amb dos paràmetres de màxim i de mínim amb uns per defecte acord al domini de l'atribut. "
   ]
  },
  {
   "cell_type": "code",
   "execution_count": 102,
   "id": "5b98bbe8-d529-4722-8851-8369006f8dea",
   "metadata": {
    "tags": []
   },
   "outputs": [
    {
     "name": "stdout",
     "output_type": "stream",
     "text": [
      "{'nom': 'Manse Korean Buffet', 'adreça': '4220 Beverly Blvd Los Angeles, CA 90004', 'puntuacio': 5.0, 'nombre_ressenyes': 4, 'estils': ['Korean'], 'preu': '', 'comentaris': [{'data': '2023-08-04', 'data_carrega': '2023-09-17', 'cos': \"Tasty home style Korean food in the style of a Korean taxi driver's cafeteria shown in the movie Parasite. The main dish changes daily. Today was pork ribs. They have bulgogi on weekends. The salad corner was super fresh. An easy quick meal.\"}, {'data': '2023-07-15', 'data_carrega': '2023-09-17', 'cos': 'he Korean food was incredibly delicious, with a variety of side dishes, soups, stews, meats, and fish. The owner was very kind and welcoming. I would love to visit this restaurant again in the future!\" ,............................................................youtu.be/Bnu8j7gMnG0'}, {'data': '2023-05-19', 'data_carrega': '2023-09-17', 'cos': \"Delicious place! Great all you can eat BBQ. Not anything too fancy, but it's cute and homey. The service was nice and friendly as well. Yummy!\"}, {'data': '2023-05-12', 'data_carrega': '2023-09-17', 'cos': \"It bills itself as LA's first home-style Korean buffet, and boy am I glad I tried it. The owner greeted me when I walked in and when I confirmed it was my first time visiting, he gave me a tour of the buffet and explained what all the dishes were as most of the signage is in Korean.Dishes rotate daily, apparently, and when I went they had two types of rice (white and purple), bean sprout soup and Korean curry in the back section. Lettuce leaves, hot peppers and ssamjang in the refrigerator. On the hot bar, they have Spicy pork with baby octopus, a spicy yam dish, fried mackerel, Korean pancake, sundubu tofu, a fluffy egg dish along with a couple other dishes I think I've missed. The cold bar had spicy crab, bean sprouts, japchae, daikon/carrots and a very nice variety of banchan. There was more that I can't remember but it was all delicious!If you're looking for super authentic homemade Korean food, this is a fantastic new option. The owner was very friendly and even though I'm only in LA for a couple weeks, I know I'll be going back soon!Highly recommend!\"}]}\n",
      "---\n",
      "{'nom': 'Reunion Hollywood', 'adreça': '1538 N El Centro Ave Fl 2 Los Angeles, CA 90028', 'puntuacio': 5.0, 'nombre_ressenyes': 3, 'estils': ['Bars', 'Italian'], 'preu': '', 'comentaris': [{'data': '2023-07-03', 'data_carrega': '2023-09-17', 'cos': 'Nice meal. Would come again. Service good. Ambiance was also good. Would suggest to others.'}, {'data': '2023-05-30', 'data_carrega': '2023-09-17', 'cos': 'As a previous member of Neuehouse I was delighted to receive an invite to try out the new Reunion Hollywood. I was skeptical as there was very little information on the restaurant/ menu/ food, but having spent time at Neuehouse and even tried their cafe\\'s I knew they would not disappoint. And they certainly did not. Everything at this place was done tastefully and elegantly. The entry way is beautifully lit with terracotta lanterns and the terrace has a beautiful classy yet warm vibe to it. This place screams pretentious but it is surprisingly not - wait staff are incredibly friendly and attentive. Now the food. Everything on the menu sounded appetizing and since there was only two of us, we couldn\\'t order too many different things. We were torn between ordering a few items to get a feel of the flavors or ordering the whole fish and just enjoying it. We went for the whole fish and we were glad we didn\\'t order anything along with it. The rockfish arrived in a tasteful stainless steel platter, and was filleted in the kitchen and sliced in the platter without losing its \"whole fish\" look. It sat on a bed of a medley of fresh salad veggies that maintained their crisp consistency despite sitting under a hot fish. Aka. They were not soggy. The seasoning of the fish was perfect, and the herbs mixed in with the spring veggies really lifted the flavors and made everything taste so light, smooth and fresh, while maintaining some richness thanks to the boldness of the olive oil in the sauce/dressing. I would highly recommend trying this place out. I\\'ll definitely be back to taste more of this gorgeous menu!'}, {'data': '2023-05-27', 'data_carrega': '2023-09-17', 'cos': 'This place is so beautiful. The vibe, service, decor, food and drinks. Such a vibe. Highly recommend for a cute date or just getting a table with friends. Everything was amazing.'}]}\n",
      "---\n",
      "{'nom': \"Liu's Cafe\", 'adreça': '3915 1/2 W 6th St Los Angeles, CA 90020', 'puntuacio': 5.0, 'nombre_ressenyes': 8, 'estils': ['Cafes'], 'preu': '', 'comentaris': [{'data': '2023-09-14', 'data_carrega': '2023-09-17', 'cos': 'This place is a hidden gem. Food is spectacular as well as the service. Highly recommend trying one of the several pastries they offer. For now, there are no lines.'}, {'data': '2023-09-13', 'data_carrega': '2023-09-17', 'cos': 'Excellent flavors, service, and cute ambience. Pork belly melts in your mouth... super tender.'}, {'data': '2023-09-10', 'data_carrega': '2023-09-17', 'cos': \"My taiwanese boyfriend introduced me to this place and told me I would like it.. and he wasn't wrong. The food served here really makes you feel at home and provides a feeling of warmth and comfort. \\xa0This place really strives to bring the best experience to their customers. Plan to come here as much as possible.Literally created a yelp account to compliment this place because it was so good\"}, {'data': '2023-09-08', 'data_carrega': '2023-09-17', 'cos': \"Had to stop in today to try this new spot after walking by! The interior is so cute and welcoming and the staff was super helpful with suggestions and making sure everything tasted great! Everything is a great price (especially for the area) and the portions are perfect for lunch. We took the pastries to go and they made the perfect post-lunch treat! We'll definitely become regulars here!\"}, {'data': '2023-09-04', 'data_carrega': '2023-09-17', 'cos': \"So so so good!! The decor is so cute! It's everything I wanted and expected it to be! Minimalistic, clean and modern. The food was so bomb! Matcha cookie was so gooey! The pao tsai (pickled cabbage) was so good, crunchy and not too sweet. Probably the best I've ever had, just missing some stinky tofu. The pork belly rice reminded me of my dads. Super super bomb! The shredded chicken rice (famous chiayi dish) was pretty good. I feel like it's missing something though.. oh and we tried the Jasmine passion fruit tea, so goood!! I can't wait to come back to try other dishes. The curry and fried pork dish was not available on our visit. Service was also excellent, everyone was very friendly and nice. Oh and the pineapple bao was really good. Think of a brioche bun with the sweet thing on top.\"}, {'data': '2023-09-03', 'data_carrega': '2023-09-17', 'cos': \"So excited for another place I can get Taiwanese food! + egg tarts! Clean, modern ambiance and delicious food - Chinese favs with a touch of innovation (i.e., scallion pancake with smoked salmon + roe). We sampled a bunch of stuff- said salmon scallion pancake (tasty, unique), peanut butter cookies with a pepper finish (nice bite!), matcha white chocolate cookies, jalapeno cheddar biscuit, traditional egg tarts (yummm), pickled cabbage (refreshing, crisp), chicken rice (gives that healthy comfort food feeling!), and spicy wontons (drizzle chili sauce all over everything please). Wishing Liu's Cafe much success and fortune!\"}, {'data': '2023-08-31', 'data_carrega': '2023-09-17', 'cos': 'TL;DR Food Amazing, Ambience Great, don\\'t sit on the white stools.Happened to see the soft opening sign while my wife and I were on our way elsewhere and I thought... \"why not?\" I\\'m so glad we did because... wow!We walk in and the ambience is great. Nice, clean, minimalistic/newtro aesthetic. It was also nice seeing the chefs working behind the counter rather than hidden in the back. Guy at the counter was super nice. Ordered our food, took our table number card, and found a seat immediately. It was busy but not packed. There\\'s some nice big tables in the center of the dining area which could comfortably seat 6 maybe crush in 8, and some smaller tables on the perimeter. I sat on the side that had the long bench with white stools on the other side of the table. I don\\'t recommend the white stools, my butt went numb after a while, try getting the other seats with the nicer chairs especially if you\\'re a bigger person like me.Despite the discomfort of the stool, this place gets 5 stars because the food is amazing. We had an order of three Braised Pork Belly over rice, Chiayi Chicken Rice, Egg Tart, Hong Kong Milk Tea, and later a free Pineapple Bread.Chiayi Chicken Rice was nicely seasoned. As the seasoning soaked into the rice it gave it a partial congee texture which made the meal feel very cozy (I may get this on sick days from now on). The spicy pickled radish it came with gave it a nice contrast. Add the chili sauce to every spoonful of chicken rice and it was perfection.The Braised Pork Belly over rice came a little late which is why we got our free Bread but it was worth the wait (also not docking points because it is a soft opening after all and they\\'re figuring this stuff out). Once again the seasoning was key, and the cucumber pickle perfectly cuts the greasiness of the Pork Belly. I wouldn\\'t advise everyone at the table getting this together though. My wife and I shared half and thought it would have been a bit overwhelming to deal with if one of us had our own bowl.Egg Tart was so good. It was a more custardy egg tart. Wife says the texture reminds her of a soft serve. Perfectly flaky on the outside. A+Pineapple bun... mm...mmm... chef\\'s kiss. So soft out on the inside and perfectly crispy on the outside. They gave us butter with the bread but honestly didn\\'t need it. \\xa0Now I\\'m glad our Pork Belly dish came out late cuz I would\\'ve missed put on my new favorite Pineapple bread.'}, {'data': '2023-08-31', 'data_carrega': '2023-09-17', 'cos': \"I'm going to be the first customer here!!! It's Chinese food real authentic in Koreatown!! I can't wait.\"}]}\n",
      "---\n"
     ]
    }
   ],
   "source": [
    "def puntuacio(minim = 1, maxim = 1): \n",
    "    for c in dict_final.keys():\n",
    "        d = dict_final.get(c)\n",
    "        if (d.get('puntuacio') >= minim) and (d.get('puntuacio') <= maxim): \n",
    "            print(d)\n",
    "            print('---')\n",
    "\n",
    "puntuacio(5.0,5.4)"
   ]
  },
  {
   "cell_type": "markdown",
   "id": "c40b11ed-acc6-48ee-85f8-5b32c3d7727c",
   "metadata": {},
   "source": [
    "# Activitat 3. \n",
    "\n",
    "Crea una funció que rebi un valor d'estil culinari i mostri tots els restaurants que l'emprin."
   ]
  },
  {
   "cell_type": "code",
   "execution_count": 77,
   "id": "60561bb7-e570-4688-aa20-f51f0da17b5b",
   "metadata": {
    "tags": []
   },
   "outputs": [],
   "source": [
    "def estils(llista_estils=[]): \n",
    "    for c in dict_final.keys():\n",
    "        d = dict_final.get(c)\n",
    "        for e in llista_estils:\n",
    "            if e in d.get('estils'): \n",
    "                print(d)\n",
    "                print('---')\n",
    "\n",
    "estils(['aaa','zzz'])"
   ]
  },
  {
   "cell_type": "markdown",
   "id": "581bb768-ee81-4f47-a4d0-d1ecdce698eb",
   "metadata": {},
   "source": [
    "# Activitat 4.\n",
    "\n",
    "Crea una funció que, donat un restaurant, ens retorni una llista de comentaris ordenats per data.\n",
    "S'ha de poder especificar si es volen retornar ordenats de forma ascendent o descendent."
   ]
  },
  {
   "cell_type": "code",
   "execution_count": 168,
   "id": "d5f4115a-729a-419f-8143-4a6c738d1bd7",
   "metadata": {
    "tags": []
   },
   "outputs": [
    {
     "name": "stdout",
     "output_type": "stream",
     "text": [
      "[['2023-09-16', \"Great ambiance indoors and attentive staff. Really great food. Right next to Cedars so lots of ambulance sirens, so eat inside if that bothers you. Be careful with the margarita. They must put ghost chili peppers in it because I couldn't feel my lips after one sip. Had to ditch it. But the Stroganoff and brownie dessert were terrific.\"], ['2023-09-15', \"Wrong wrong wrong. \\xa0 AIf you don't fit the Ty as they will escort you out. \\xa0Don't drink here.\"], ['2023-09-07', 'Bad service!! The worst servers. Marcos the manager and the host on Thursday 9/7/2023 have been very rude and liars!! NOT COMING BACK HERE AGAIN I WOULD NOT RECOMMEND!'], ['2023-09-06', 'One of my absolute favorite places in WeHo for brunch. The atmosphere is sleek and inviting and the menu is humongous and varied. Homemade craft colas were a highlight for me but the food was delicious too'], ['2023-09-05', 'Always a good experience and food is great.Team are very courteous and pleasant.Not too loud, and nice & clean.'], ['2023-09-04', \"These five stars are for the food, service, and ambiance.First off, I love how this location allows reservations unlike the one in Pasadena.Secondly the customer service was off the chain. I know there are plenty of snooty customers here daily, I witnessed many while dining here. But that's not what we are here for lol our waitress Charis M and manager Celine were exceptional. This was the first time my friends and I dined here for brunch and we will definitely be coming back.From the drink recommendations to the food everything was delicious and tasteful,It was a group of six of us and we all enjoyed a variety of items on the menu. I will say the grilled cheese dipper and skirt steaks were highlights of the dishes,The cucumber martini was phenomenal , lemon drops were also delicious! Overall our experience here was a really good one thanks to Charis and Celine please continue to hire wonderful employees like these ladies!\"], ['2023-09-03', \"Visited Granville for a quick lunch and had an excellent experience. We were seated immediately, which was a nice surprise.Started off with the brussel sprouts and bread and butter--both were delicious and set a high expectation for the rest of the meal. For entrees, I had the El Gaucho salad with chicken, and my partner opted for the angel hair pasta. Both were satisfying and flavorful.We were so eager to dig in that we forgot to take photos, so I guess we'll just have to come back for round two! Overall, a solid four-star experience.\"], ['2023-09-03', \"Great ambience, generous portions, delicious cocktails, attentive service. Not the most interesting menu ever but it's a good choice. I'd go back.\"], ['2023-08-31', 'Food was fine. Follow up service was non existent. No one ever came by to take the dirty plates or refill drinks. We had to get up to ask twice for water refills - still never came. We left.'], ['2023-08-31', \"The food was fine and the ambiance was nice. Our server was the bartender and he was kind enough but a bit too busy to focus on our refills and checking in.I ordered the salad with add on veggie chicken. It came out to $23, which I would call very over priced for the portion size. The taste was good but it was a small salad and the $6 add on protein was super bland without much thought given to its preparation.My husband got the Caesar salad with an $8 salmon add on. He enjoyed it but, again, it was small.I don't think our waters were ever refilled.I can understand being busy but I probably wouldn't revisit simply because of the unwarranted high prices.\"]]\n"
     ]
    }
   ],
   "source": [
    "def comentaris(rest_id='', r=False):\n",
    "    list_final = []\n",
    "    #dict_final[rest_id]['comentaris'][i]['cos']\n",
    "    for e in dict_final[rest_id]['comentaris']:\n",
    "        list_final.append([e['data'],e['cos']])\n",
    "        \n",
    "    return sorted(list_final,key=lambda x: x[0], reverse=r)\n",
    "\n",
    "print(comentaris('1', True))"
   ]
  }
 ],
 "metadata": {
  "kernelspec": {
   "display_name": "Python 3 (ipykernel)",
   "language": "python",
   "name": "python3"
  },
  "language_info": {
   "codemirror_mode": {
    "name": "ipython",
    "version": 3
   },
   "file_extension": ".py",
   "mimetype": "text/x-python",
   "name": "python",
   "nbconvert_exporter": "python",
   "pygments_lexer": "ipython3",
   "version": "3.11.5"
  }
 },
 "nbformat": 4,
 "nbformat_minor": 5
}
