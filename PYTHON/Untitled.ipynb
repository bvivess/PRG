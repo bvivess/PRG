{
 "cells": [
  {
   "cell_type": "code",
   "execution_count": 4,
   "id": "b20bc0b9-9a59-44b8-a5bb-cc6e3e57b50a",
   "metadata": {},
   "outputs": [
    {
     "name": "stdin",
     "output_type": "stream",
     "text": [
      "corrent 10\n"
     ]
    }
   ],
   "source": [
    "a=int(input(\"corrent\"))"
   ]
  },
  {
   "cell_type": "code",
   "execution_count": 5,
   "id": "7da9aed7-b94b-428e-8c59-d165fb940ef2",
   "metadata": {
    "tags": []
   },
   "outputs": [
    {
     "name": "stdin",
     "output_type": "stream",
     "text": [
      "resistencia 20\n"
     ]
    }
   ],
   "source": [
    "b=int(input(\"resistencia\"))"
   ]
  },
  {
   "cell_type": "code",
   "execution_count": 7,
   "id": "68b9f274-abd8-40c9-a3f3-0d32b0aab1de",
   "metadata": {},
   "outputs": [
    {
     "name": "stdout",
     "output_type": "stream",
     "text": [
      "0.5\n"
     ]
    }
   ],
   "source": [
    "v=a/b\n",
    "print(v)"
   ]
  }
 ],
 "metadata": {
  "kernelspec": {
   "display_name": "Python 3 (ipykernel)",
   "language": "python",
   "name": "python3"
  },
  "language_info": {
   "codemirror_mode": {
    "name": "ipython",
    "version": 3
   },
   "file_extension": ".py",
   "mimetype": "text/x-python",
   "name": "python",
   "nbconvert_exporter": "python",
   "pygments_lexer": "ipython3",
   "version": "3.11.5"
  },
  "toc-showmarkdowntxt": true
 },
 "nbformat": 4,
 "nbformat_minor": 5
}
