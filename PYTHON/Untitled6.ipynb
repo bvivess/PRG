{
 "cells": [
  {
   "cell_type": "code",
   "execution_count": 13,
   "id": "79f4a57c-9b29-45a2-a8f9-4242a56c60a3",
   "metadata": {
    "tags": []
   },
   "outputs": [
    {
     "data": {
      "text/plain": [
       "{'1': {'nom': 'GRANVILLE', 'adreça': '8701 Beverly Blvd West Hollywood'}}"
      ]
     },
     "execution_count": 13,
     "metadata": {},
     "output_type": "execute_result"
    }
   ],
   "source": [
    "d= {'1': {'nom': 'GRANVILLE',\n",
    "          'adreça': '8701 Beverly Blvd West Hollywood'}\n",
    "   }\n",
    "d"
   ]
  },
  {
   "cell_type": "code",
   "execution_count": 16,
   "id": "edc5f141-c1d8-4866-9a80-f562d994bc51",
   "metadata": {
    "tags": []
   },
   "outputs": [
    {
     "data": {
      "text/plain": [
       "{'1': {'nom': 'GRANVILLE', 'adreça': '8701 Beverly Blvd West Hollywood'},\n",
       " '2': {'nom': 'xxx', 'adreça': 'xxxxxxxxxx'}}"
      ]
     },
     "execution_count": 16,
     "metadata": {},
     "output_type": "execute_result"
    }
   ],
   "source": [
    "d['2']  ={'nom': 'xxx',\n",
    "          'adreça': 'xxxxxxxxxx'}\n",
    "d"
   ]
  },
  {
   "cell_type": "code",
   "execution_count": 12,
   "id": "d729b607-51d9-4be2-83cf-171d0e66d6dc",
   "metadata": {
    "tags": []
   },
   "outputs": [
    {
     "data": {
      "text/plain": [
       "{'MAD': 'Madrid',\n",
       " 'BCN': 'Barcelona',\n",
       " 'PMI': 'Palma',\n",
       " 'XXX': 'XxxxxZZ',\n",
       " 'ZZZ': 'ZZZZZZ'}"
      ]
     },
     "execution_count": 12,
     "metadata": {},
     "output_type": "execute_result"
    }
   ],
   "source": [
    "d['ZZZ'] = 'ZZZZZZ'\n",
    "d"
   ]
  }
 ],
 "metadata": {
  "kernelspec": {
   "display_name": "Python 3 (ipykernel)",
   "language": "python",
   "name": "python3"
  },
  "language_info": {
   "codemirror_mode": {
    "name": "ipython",
    "version": 3
   },
   "file_extension": ".py",
   "mimetype": "text/x-python",
   "name": "python",
   "nbconvert_exporter": "python",
   "pygments_lexer": "ipython3",
   "version": "3.11.5"
  }
 },
 "nbformat": 4,
 "nbformat_minor": 5
}
