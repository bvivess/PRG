{
 "cells": [
  {
   "cell_type": "code",
   "execution_count": 136,
   "id": "b9cdb943-3991-4736-a914-166e04ef2181",
   "metadata": {
    "tags": []
   },
   "outputs": [],
   "source": [
    "import csv\n",
    "\n",
    "yelp = []\n",
    "\n",
    "i = 0\n",
    "with open('/a.csv', 'r',  encoding='utf8') as file:\n",
    "    csvreader = csv.reader(file)\n",
    "    next(csvreader, None) #omitim capçalera\n",
    "    \n",
    "    for row in csvreader:\n",
    "        i = i + 1\n",
    "        yelp.append(row)\n",
    "        if i == 10000:\n",
    "            break\n",
    "            "
   ]
  },
  {
   "cell_type": "code",
   "execution_count": 133,
   "id": "4ad835fb-42ef-46b3-b1e4-38a938c8f7d6",
   "metadata": {
    "tags": []
   },
   "outputs": [
    {
     "data": {
      "text/plain": [
       "[['1',\n",
       "  '2023-09-16',\n",
       "  '2023-09-17',\n",
       "  'GRANVILLE',\n",
       "  \"Great ambiance indoors and attentive staff. Really great food. Right next to Cedars so lots of ambulance sirens, so eat inside if that bothers you. Be careful with the margarita. They must put ghost chili peppers in it because I couldn't feel my lips after one sip. Had to ditch it. But the Stroganoff and brownie dessert were terrific.\",\n",
       "  '8701 Beverly Blvd West Hollywood, CA 90048',\n",
       "  '4.4',\n",
       "  '2672',\n",
       "  'American (New), Cocktail Bars',\n",
       "  '$$']]"
      ]
     },
     "execution_count": 133,
     "metadata": {},
     "output_type": "execute_result"
    }
   ],
   "source": [
    "yelp"
   ]
  },
  {
   "cell_type": "code",
   "execution_count": 158,
   "id": "831e2310-e3f5-484b-acde-3536e0e03d1a",
   "metadata": {
    "tags": []
   },
   "outputs": [],
   "source": [
    "# es crea un diccionari de sortida, inicialment buit\n",
    "dict_final = {}\n",
    "\n",
    "# iteram sobre la llista bidimensional\n",
    "for linia in yelp:\n",
    "    rest_id = linia[0]\n",
    "    comen_dataInicial = linia[1]\n",
    "    comen_dataCarrega = linia[2]\n",
    "    rest_nom = linia[3]\n",
    "    comen_desc = linia[4]\n",
    "    rest_adreca = linia[5]                  # cal fer split !!\n",
    "    rest_punts = float(linia[6])            # convertir a float\n",
    "    rest_numRes = int(linia[7])             # convertir a int\n",
    "    rest_estils = linia[8].split(', ')      # convertir els tipus en una llista \n",
    "    rest_preu = linia[9].replace('$', '€')  # Reemplazar el símbolo de dólar por euro en el precio\n",
    "    \n",
    "    comen_dcomentari = {\n",
    "        'data': comen_dataInicial,\n",
    "        'data_carrega': comen_dataCarrega,\n",
    "        'cos': comen_desc\n",
    "    }\n",
    "    \n",
    "    if rest_id in dict_final:\n",
    "        # es modifica la clau, afegint un nou comentari a la llista 'comentaris'\n",
    "        dict_final[rest_id]['comentaris'].append(comen_dcomentari)\n",
    "    else:\n",
    "        # inserim nova clau:valor al diccionari\n",
    "        dict_final[rest_id] = {\n",
    "            'nom': rest_nom,\n",
    "            'adreça': rest_adreca,\n",
    "            'puntuació': rest_punts,\n",
    "            'nombre_ressenyes': rest_numRes,\n",
    "            'estils': rest_estils,\n",
    "            'preu': rest_preu,\n",
    "            'comentaris': [comen_dcomentari]\n",
    "            }\n"
   ]
  },
  {
   "cell_type": "code",
   "execution_count": 160,
   "id": "4877d0ab-7727-4654-889e-8f1556283506",
   "metadata": {
    "tags": []
   },
   "outputs": [
    {
     "data": {
      "text/plain": [
       "dict_keys(['1', '2', '3', '4', '5', '6', '7', '8', '9', '10', '11', '12', '13', '14', '15', '16', '17', '18', '20', '21', '22', '24', '25', '26', '27', '28', '29', '30', '31', '32', '33', '34', '35', '36', '37', '38', '39', '40', '41', '42', '43', '44', '45', '46', '47', '48', '49', '50', '51', '52', '53', '54', '55', '56', '57', '58', '59', '60', '61', '62', '63', '64', '65', '66', '67', '68', '69', '70', '71', '72', '73', '74', '75', '76', '77', '78', '79', '80', '81', '82', '83', '84', '85', '86', '87', '88', '89', '90', '91', '92', '93', '94', '95', '96', '97', '98', '99', '100', '101', '102', '103', '104', '105', '106', '107', '108', '109', '110', '111', '112', '113', '114', '115', '116', '117', '118', '119', '120', '121', '122', '123', '124', '125', '126', '127', '128', '129', '130', '131', '132', '133', '134', '135', '136', '137', '138', '139', '140', '141', '142', '143', '144', '145', '146', '147', '148', '149', '150', '151', '152', '153', '154', '155', '156', '157', '158', '159', '160', '161', '162', '163', '164', '166', '167', '168', '169', '170', '171', '172', '173', '174', '175', '176', '177', '178', '179', '180', '181', '182', '183', '184', '185', '186', '187', '188', '189', '190', '191', '192', '193', '194', '195', '196', '197', '198', '199', '200', '201', '202', '203', '204', '205', '206', '207', '208', '209', '210', '211', '212', '213', '214', '215', '216', '217', '218', '219', '220', '221', '222', '223', '224', '225', '226', '227', '228', '229', '230', '231', '232', '233', '234', '236', '237', '238', '239', '240'])"
      ]
     },
     "execution_count": 160,
     "metadata": {},
     "output_type": "execute_result"
    }
   ],
   "source": [
    "k,v for k"
   ]
  }
 ],
 "metadata": {
  "kernelspec": {
   "display_name": "Python 3 (ipykernel)",
   "language": "python",
   "name": "python3"
  },
  "language_info": {
   "codemirror_mode": {
    "name": "ipython",
    "version": 3
   },
   "file_extension": ".py",
   "mimetype": "text/x-python",
   "name": "python",
   "nbconvert_exporter": "python",
   "pygments_lexer": "ipython3",
   "version": "3.11.5"
  }
 },
 "nbformat": 4,
 "nbformat_minor": 5
}
