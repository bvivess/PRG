{
 "cells": [
  {
   "cell_type": "markdown",
   "id": "8962f459-183a-4597-8b13-ea9e1e136806",
   "metadata": {},
   "source": [
    "# Python Basic\n",
    "\n",
    "Característiques del llenguatge\n",
    "\n",
    "* **No fa falta declarar el tipus de dades**. Però també tenim mypy.\n",
    "* **Tipus de dades avançats**. \n",
    "* **Identació**\n",
    "* **Llenguatge multiparadigma**. Permet traballar de forma introspectiva.\n",
    "* **Programació modular**. \n",
    "* **Interactiu**\n",
    "* **Bytecode**. Portable al l'igual java\n",
    "* Integració amb altres llenguatges\n",
    "* **Codi obert**\n",
    "* .py, .pyc, .ipynb"
   ]
  },
  {
   "cell_type": "code",
   "execution_count": 7,
   "id": "50de612f-3b07-47eb-b721-ffc135ecf11d",
   "metadata": {
    "tags": []
   },
   "outputs": [
    {
     "name": "stdout",
     "output_type": "stream",
     "text": [
      "3.11.4\n"
     ]
    }
   ],
   "source": [
    "from platform import python_version\n",
    "\n",
    "print(python_version())"
   ]
  },
  {
   "cell_type": "markdown",
   "id": "964554a3-e775-4281-a469-8e63f4ed77df",
   "metadata": {},
   "source": [
    "# 1. E/S estandar i comentaris"
   ]
  },
  {
   "cell_type": "code",
   "execution_count": 9,
   "id": "36c92ba3-0d0f-4710-b83c-667e5262c720",
   "metadata": {
    "tags": []
   },
   "outputs": [
    {
     "name": "stdout",
     "output_type": "stream",
     "text": [
      "Hello world!!!\n"
     ]
    }
   ],
   "source": [
    "print('Hello world!!!')"
   ]
  },
  {
   "cell_type": "code",
   "execution_count": 10,
   "id": "6445fe58-2bbb-4616-88db-2b5c8808e376",
   "metadata": {
    "tags": []
   },
   "outputs": [],
   "source": [
    "#2. Comentari en una linia"
   ]
  },
  {
   "cell_type": "code",
   "execution_count": 11,
   "id": "01171797-6767-430a-b61a-5d07538f2a56",
   "metadata": {
    "tags": []
   },
   "outputs": [],
   "source": [
    "# multiples\n",
    "# linies\n",
    "# comentades\n",
    "# ctrl + ç (slash /)"
   ]
  },
  {
   "cell_type": "code",
   "execution_count": 12,
   "id": "9d46260b-dc3e-4381-9cf1-e011cf59d7d2",
   "metadata": {
    "tags": []
   },
   "outputs": [
    {
     "data": {
      "text/plain": [
       "'\\nmultiples linies\\nsols a un IDE\\n'"
      ]
     },
     "execution_count": 12,
     "metadata": {},
     "output_type": "execute_result"
    }
   ],
   "source": [
    "\"\"\"\n",
    "multiples linies\n",
    "sols a un IDE\n",
    "\"\"\""
   ]
  },
  {
   "cell_type": "code",
   "execution_count": 14,
   "id": "b8bfdafd-e335-49fa-b0a9-d434772e04b0",
   "metadata": {
    "tags": []
   },
   "outputs": [
    {
     "name": "stdout",
     "output_type": "stream",
     "text": [
      "HolaDavid\n"
     ]
    }
   ],
   "source": [
    "nom = 'David'\n",
    "print('Hola' + nom)"
   ]
  },
  {
   "cell_type": "code",
   "execution_count": 15,
   "id": "bd9a3c3d-2a68-4765-9b40-3a612158bd5e",
   "metadata": {
    "tags": []
   },
   "outputs": [
    {
     "data": {
      "text/plain": [
       "'David'"
      ]
     },
     "execution_count": 15,
     "metadata": {},
     "output_type": "execute_result"
    }
   ],
   "source": [
    "#shift + tab per documentació o info sobre objecte\n",
    "nom"
   ]
  },
  {
   "cell_type": "code",
   "execution_count": 16,
   "id": "56f1a2b0-dfc6-4e8d-8cdd-ec6cccfc8f59",
   "metadata": {
    "tags": []
   },
   "outputs": [
    {
     "name": "stdout",
     "output_type": "stream",
     "text": [
      "Hola David\n"
     ]
    }
   ],
   "source": [
    "print('Hola', nom)"
   ]
  },
  {
   "cell_type": "code",
   "execution_count": 19,
   "id": "533f1329-fe29-468d-a602-ca5fcefd8d2b",
   "metadata": {
    "tags": []
   },
   "outputs": [
    {
     "name": "stdout",
     "output_type": "stream",
     "text": [
      "el nombre és 1\n"
     ]
    }
   ],
   "source": [
    "#imprimim el mateix emprant .format\n",
    "nombre = 1\n",
    "\n",
    "print(\"el nombre és {}\".format(nombre))"
   ]
  },
  {
   "cell_type": "code",
   "execution_count": 21,
   "id": "61e2e893-57b1-4146-bac1-9e166cdecd30",
   "metadata": {
    "tags": []
   },
   "outputs": [
    {
     "name": "stdout",
     "output_type": "stream",
     "text": [
      "el nombre és 1 i el nom és David\n"
     ]
    }
   ],
   "source": [
    "#el mateix amb múltiples variables\n",
    "nombre = 1\n",
    "nom = 'David'\n",
    "\n",
    "print(\"el nombre és {} i el nom és {}\".format(nombre, nom))"
   ]
  },
  {
   "cell_type": "code",
   "execution_count": 22,
   "id": "87b9f5d7-c972-4e3a-abda-454d67141ad6",
   "metadata": {
    "tags": []
   },
   "outputs": [
    {
     "name": "stdout",
     "output_type": "stream",
     "text": [
      "el nombre és 1 i el nom és David\n"
     ]
    }
   ],
   "source": [
    "#Ara farem el mateix amb string-interpolation\n",
    "\n",
    "nombre = 1\n",
    "nom = 'David'\n",
    "\n",
    "print(f\"el nombre és {nombre} i el nom és {nom}\")"
   ]
  },
  {
   "cell_type": "code",
   "execution_count": 24,
   "id": "fb9f6a52-85e1-43d4-a7bc-4cfff0834b5b",
   "metadata": {
    "tags": []
   },
   "outputs": [
    {
     "data": {
      "text/plain": [
       "1"
      ]
     },
     "execution_count": 24,
     "metadata": {},
     "output_type": "execute_result"
    }
   ],
   "source": [
    "nombre #no fa falta print explícit"
   ]
  },
  {
   "cell_type": "markdown",
   "id": "61d68e87-e57d-4ac1-b063-956b272ae19d",
   "metadata": {},
   "source": [
    "Entrada estàndar input()"
   ]
  },
  {
   "cell_type": "code",
   "execution_count": 25,
   "id": "fdc39875-44e1-4253-97e7-42953a7aa5d0",
   "metadata": {
    "tags": []
   },
   "outputs": [
    {
     "name": "stdin",
     "output_type": "stream",
     "text": [
      "Indica el teu nom: David\n"
     ]
    },
    {
     "data": {
      "text/plain": [
       "'David'"
      ]
     },
     "execution_count": 25,
     "metadata": {},
     "output_type": "execute_result"
    }
   ],
   "source": [
    "nom = input('Indica el teu nom:')\n",
    "nom"
   ]
  },
  {
   "cell_type": "code",
   "execution_count": 28,
   "id": "89a81e6e-157f-4429-a28d-f196697a7e19",
   "metadata": {
    "tags": []
   },
   "outputs": [
    {
     "name": "stdin",
     "output_type": "stream",
     "text": [
      "Introdueix una cadena de nombres separats per espai 1 2 3\n"
     ]
    },
    {
     "data": {
      "text/plain": [
       "['1', '2', '3']"
      ]
     },
     "execution_count": 28,
     "metadata": {},
     "output_type": "execute_result"
    }
   ],
   "source": [
    "cadena = input('Introdueix una cadena de nombres separats per espai')\n",
    "cadena.split(' ')"
   ]
  },
  {
   "cell_type": "markdown",
   "id": "7d84331c-6f0d-46aa-8e92-301a3bd7f654",
   "metadata": {},
   "source": [
    "# 2. Literals i variables"
   ]
  },
  {
   "cell_type": "markdown",
   "id": "2c753947-d4a9-4e27-b588-442aa09a42e4",
   "metadata": {},
   "source": [
    "## 2.1 Literals"
   ]
  },
  {
   "cell_type": "code",
   "execution_count": 29,
   "id": "97d9798b-3e39-4523-9a23-18f44369c3f0",
   "metadata": {
    "tags": []
   },
   "outputs": [
    {
     "data": {
      "text/plain": [
       "2"
      ]
     },
     "execution_count": 29,
     "metadata": {},
     "output_type": "execute_result"
    }
   ],
   "source": [
    "2 #sencer"
   ]
  },
  {
   "cell_type": "code",
   "execution_count": 30,
   "id": "0e9f19ad-4d25-4336-847e-2adcf5ef51e1",
   "metadata": {
    "tags": []
   },
   "outputs": [
    {
     "data": {
      "text/plain": [
       "2.5"
      ]
     },
     "execution_count": 30,
     "metadata": {},
     "output_type": "execute_result"
    }
   ],
   "source": [
    "2.5 #float"
   ]
  },
  {
   "cell_type": "code",
   "execution_count": 31,
   "id": "301788f2-e2a1-441e-baa9-03bdf3dc7f3c",
   "metadata": {
    "tags": []
   },
   "outputs": [
    {
     "data": {
      "text/plain": [
       "(2+5j)"
      ]
     },
     "execution_count": 31,
     "metadata": {},
     "output_type": "execute_result"
    }
   ],
   "source": [
    "2 + 5j #complex"
   ]
  },
  {
   "cell_type": "code",
   "execution_count": 32,
   "id": "623ba837-c8ed-4b95-8288-b79bfef3757f",
   "metadata": {
    "tags": []
   },
   "outputs": [
    {
     "data": {
      "text/plain": [
       "'cadena'"
      ]
     },
     "execution_count": 32,
     "metadata": {},
     "output_type": "execute_result"
    }
   ],
   "source": [
    "'cadena' #cadena"
   ]
  },
  {
   "cell_type": "code",
   "execution_count": 33,
   "id": "73328ea9-5c1f-4ed2-be9e-9202fbe89feb",
   "metadata": {
    "tags": []
   },
   "outputs": [
    {
     "data": {
      "text/plain": [
       "'cadena'"
      ]
     },
     "execution_count": 33,
     "metadata": {},
     "output_type": "execute_result"
    }
   ],
   "source": [
    "\"cadena\""
   ]
  },
  {
   "cell_type": "code",
   "execution_count": 34,
   "id": "29f81750-581e-4a7d-b521-8f6e681ee1a1",
   "metadata": {
    "tags": []
   },
   "outputs": [
    {
     "data": {
      "text/plain": [
       "[1, 2]"
      ]
     },
     "execution_count": 34,
     "metadata": {},
     "output_type": "execute_result"
    }
   ],
   "source": [
    "#Llista\n",
    "\n",
    "[1, 2]"
   ]
  },
  {
   "cell_type": "code",
   "execution_count": 35,
   "id": "f436efa0-502d-478a-af6e-b89216a638ed",
   "metadata": {
    "tags": []
   },
   "outputs": [
    {
     "data": {
      "text/plain": [
       "[[1, 2]]"
      ]
     },
     "execution_count": 35,
     "metadata": {},
     "output_type": "execute_result"
    }
   ],
   "source": [
    "[[1, 2]]"
   ]
  },
  {
   "cell_type": "code",
   "execution_count": 37,
   "id": "d18b528d-0510-405d-99a1-5128976e6d51",
   "metadata": {
    "tags": []
   },
   "outputs": [
    {
     "data": {
      "text/plain": [
       "(1, 2)"
      ]
     },
     "execution_count": 37,
     "metadata": {},
     "output_type": "execute_result"
    }
   ],
   "source": [
    "#Tupla\n",
    "\n",
    "(1, 2)"
   ]
  },
  {
   "cell_type": "code",
   "execution_count": 38,
   "id": "911756c6-7bde-4120-90a4-f98590117545",
   "metadata": {
    "tags": []
   },
   "outputs": [
    {
     "data": {
      "text/plain": [
       "{1, 2}"
      ]
     },
     "execution_count": 38,
     "metadata": {},
     "output_type": "execute_result"
    }
   ],
   "source": [
    "#Conjunt (set)\n",
    "\n",
    "{1, 2}"
   ]
  },
  {
   "cell_type": "code",
   "execution_count": 39,
   "id": "bb7dc9bc-06eb-4352-880b-6b069e17c9fb",
   "metadata": {
    "tags": []
   },
   "outputs": [
    {
     "data": {
      "text/plain": [
       "{'a': 1, 'b': 2}"
      ]
     },
     "execution_count": 39,
     "metadata": {},
     "output_type": "execute_result"
    }
   ],
   "source": [
    "#Diccionari\n",
    "\n",
    "{'a': 1, 'b': 2}"
   ]
  },
  {
   "cell_type": "markdown",
   "id": "7cdc55f9-90cf-45b5-9fb2-e67273ad31fc",
   "metadata": {},
   "source": [
    "## 2.2 Variables\n",
    "\n",
    "A Python tot són objectes:\n",
    "\n",
    "* S'inicialitzen en esser emprades\n",
    "* Compten amb identificador, tipus i valor, entre d'altres\n",
    "* Quan deixen de ser emprades, s'alliberen"
   ]
  },
  {
   "cell_type": "code",
   "execution_count": 40,
   "id": "3b73612d-d5a5-4de0-9d92-eefb615a61ce",
   "metadata": {
    "tags": []
   },
   "outputs": [
    {
     "name": "stdout",
     "output_type": "stream",
     "text": [
      "1 2\n"
     ]
    }
   ],
   "source": [
    "#Son case-sensitive\n",
    "\n",
    "var = 1\n",
    "Var = 2\n",
    "print(var, Var)"
   ]
  },
  {
   "cell_type": "code",
   "execution_count": 42,
   "id": "c42f454c-18e6-45f8-89c8-0dce7c939982",
   "metadata": {
    "tags": []
   },
   "outputs": [],
   "source": [
    "#separada per _\n",
    "nom_variable = None\n",
    "#CamelCase\n",
    "nomVariable = None"
   ]
  },
  {
   "cell_type": "code",
   "execution_count": 44,
   "id": "869f46d4-47ae-40a6-9f94-4f0048ea2929",
   "metadata": {
    "tags": []
   },
   "outputs": [
    {
     "name": "stdout",
     "output_type": "stream",
     "text": [
      "<class 'str'>\n"
     ]
    }
   ],
   "source": [
    "#Per veure el tipus de l'objbecte\n",
    "print(type(nom))"
   ]
  },
  {
   "cell_type": "code",
   "execution_count": 48,
   "id": "f629dc4e-8886-44b0-9c9a-b88df7e5d66a",
   "metadata": {
    "tags": []
   },
   "outputs": [
    {
     "name": "stdout",
     "output_type": "stream",
     "text": [
      "<class 'NoneType'>\n",
      "<class 'bool'>\n",
      "<class 'float'>\n",
      "<class 'complex'>\n"
     ]
    }
   ],
   "source": [
    "#Altres tipus bàsics són\n",
    "n = None #null\n",
    "print(type(n))\n",
    "b = False\n",
    "print(type(b))\n",
    "f = 3.14\n",
    "print(type(f))\n",
    "c = 3 + 5j\n",
    "print(type(c))"
   ]
  },
  {
   "cell_type": "markdown",
   "id": "e25e9fa6-06b2-4ac6-afbf-5f0eee090052",
   "metadata": {},
   "source": [
    "Per veure identificador de variable"
   ]
  },
  {
   "cell_type": "code",
   "execution_count": 50,
   "id": "5c016943-d409-4968-90d9-cb16e72bef04",
   "metadata": {
    "tags": []
   },
   "outputs": [
    {
     "data": {
      "text/plain": [
       "2053995679184"
      ]
     },
     "execution_count": 50,
     "metadata": {},
     "output_type": "execute_result"
    }
   ],
   "source": [
    "id(f)"
   ]
  },
  {
   "cell_type": "code",
   "execution_count": 51,
   "id": "d6ce350f-3d41-46a9-a68d-09c70b3e933e",
   "metadata": {
    "tags": []
   },
   "outputs": [
    {
     "data": {
      "text/plain": [
       "3.14"
      ]
     },
     "execution_count": 51,
     "metadata": {},
     "output_type": "execute_result"
    }
   ],
   "source": [
    "f"
   ]
  },
  {
   "cell_type": "code",
   "execution_count": 52,
   "id": "e965a529-811d-4bea-82f9-a77052c7cec7",
   "metadata": {
    "tags": []
   },
   "outputs": [
    {
     "name": "stdout",
     "output_type": "stream",
     "text": [
      "id de f: 2053995679280, id de f2 2054024929680\n"
     ]
    }
   ],
   "source": [
    "f = 3.14\n",
    "f2 = 3.14\n",
    "print(f'id de f: {id(f)}, id de f2 {id(f2)}')"
   ]
  },
  {
   "cell_type": "code",
   "execution_count": 54,
   "id": "3090d3f3-5df2-4ef3-b8e4-9b7e4b180c24",
   "metadata": {
    "tags": []
   },
   "outputs": [
    {
     "data": {
      "text/plain": [
       "False"
      ]
     },
     "execution_count": 54,
     "metadata": {},
     "output_type": "execute_result"
    }
   ],
   "source": [
    "f is f2 #True si apunten al mateix objecte"
   ]
  },
  {
   "cell_type": "code",
   "execution_count": 60,
   "id": "20df7944-b42d-416f-8e29-99b3e04a43a2",
   "metadata": {
    "tags": []
   },
   "outputs": [
    {
     "name": "stdout",
     "output_type": "stream",
     "text": [
      "id de f: 2054024951920, id de f2 2054024951920\n"
     ]
    }
   ],
   "source": [
    "#L'optimitzador no reserva espai per a dos objectes string si són el mateix valor\n",
    "#Fins a un limit\n",
    "s = 'Hola'\n",
    "s2 = 'Hola'\n",
    "print(f'id de f: {id(s)}, id de f2 {id(s2)}')"
   ]
  },
  {
   "cell_type": "code",
   "execution_count": 61,
   "id": "2d44d7e6-3745-4e12-80a7-9bea9ffd0d47",
   "metadata": {
    "tags": []
   },
   "outputs": [],
   "source": [
    "b = False"
   ]
  },
  {
   "cell_type": "code",
   "execution_count": 62,
   "id": "42e0da64-75b2-4b1a-ac38-416a7cd93288",
   "metadata": {
    "tags": []
   },
   "outputs": [
    {
     "data": {
      "text/plain": [
       "False"
      ]
     },
     "execution_count": 62,
     "metadata": {},
     "output_type": "execute_result"
    }
   ],
   "source": [
    "b"
   ]
  },
  {
   "cell_type": "code",
   "execution_count": 63,
   "id": "72418780-2f3e-400c-87a6-3f383db01287",
   "metadata": {
    "tags": []
   },
   "outputs": [],
   "source": [
    "del(b) #destrueix objecte"
   ]
  },
  {
   "cell_type": "code",
   "execution_count": 64,
   "id": "f4568953-d0b5-41a4-96d0-1e2654ddc4e5",
   "metadata": {
    "tags": []
   },
   "outputs": [
    {
     "ename": "NameError",
     "evalue": "name 'b' is not defined",
     "output_type": "error",
     "traceback": [
      "\u001b[1;31m---------------------------------------------------------------------------\u001b[0m",
      "\u001b[1;31mNameError\u001b[0m                                 Traceback (most recent call last)",
      "Cell \u001b[1;32mIn[64], line 1\u001b[0m\n\u001b[1;32m----> 1\u001b[0m b\n",
      "\u001b[1;31mNameError\u001b[0m: name 'b' is not defined"
     ]
    }
   ],
   "source": [
    "b"
   ]
  },
  {
   "cell_type": "code",
   "execution_count": 65,
   "id": "5b3f46e0-42e2-45f7-b6b1-559d9631fe20",
   "metadata": {
    "tags": []
   },
   "outputs": [],
   "source": [
    "b = False"
   ]
  },
  {
   "cell_type": "code",
   "execution_count": 66,
   "id": "1e0a86a1-589c-49d9-8693-768c9c2b3fb6",
   "metadata": {
    "tags": []
   },
   "outputs": [],
   "source": [
    "del b #sense parèntesi"
   ]
  },
  {
   "cell_type": "code",
   "execution_count": 67,
   "id": "d0bb2a82-9cf8-49fe-8e9e-60ce5c6bf6e7",
   "metadata": {
    "tags": []
   },
   "outputs": [
    {
     "ename": "NameError",
     "evalue": "name 'b' is not defined",
     "output_type": "error",
     "traceback": [
      "\u001b[1;31m---------------------------------------------------------------------------\u001b[0m",
      "\u001b[1;31mNameError\u001b[0m                                 Traceback (most recent call last)",
      "Cell \u001b[1;32mIn[67], line 1\u001b[0m\n\u001b[1;32m----> 1\u001b[0m b\n",
      "\u001b[1;31mNameError\u001b[0m: name 'b' is not defined"
     ]
    }
   ],
   "source": [
    "b"
   ]
  },
  {
   "cell_type": "code",
   "execution_count": 68,
   "id": "93c2dd57-cbd2-429f-96a0-148022a12394",
   "metadata": {
    "tags": []
   },
   "outputs": [
    {
     "data": {
      "text/plain": [
       "3"
      ]
     },
     "execution_count": 68,
     "metadata": {},
     "output_type": "execute_result"
    }
   ],
   "source": [
    "#Casting\n",
    "nombre = 3\n",
    "nombre"
   ]
  },
  {
   "cell_type": "code",
   "execution_count": 69,
   "id": "5cd79cf1-3ded-42ce-a51d-f4cfdff3926d",
   "metadata": {
    "tags": []
   },
   "outputs": [
    {
     "data": {
      "text/plain": [
       "int"
      ]
     },
     "execution_count": 69,
     "metadata": {},
     "output_type": "execute_result"
    }
   ],
   "source": [
    "nombre = int(nombre)\n",
    "type(nombre)"
   ]
  },
  {
   "cell_type": "code",
   "execution_count": 70,
   "id": "217776c1-6f53-4bf0-8d29-e2e9294c01d1",
   "metadata": {
    "tags": []
   },
   "outputs": [
    {
     "data": {
      "text/plain": [
       "float"
      ]
     },
     "execution_count": 70,
     "metadata": {},
     "output_type": "execute_result"
    }
   ],
   "source": [
    "#float\n",
    "nombre = float(nombre)\n",
    "type(nombre)"
   ]
  },
  {
   "cell_type": "code",
   "execution_count": 71,
   "id": "bad6e8bf-42cb-40d6-a036-8ea2a4e27ff0",
   "metadata": {
    "tags": []
   },
   "outputs": [
    {
     "data": {
      "text/plain": [
       "str"
      ]
     },
     "execution_count": 71,
     "metadata": {},
     "output_type": "execute_result"
    }
   ],
   "source": [
    "#str\n",
    "nombre = str(nombre)\n",
    "type(nombre)"
   ]
  },
  {
   "cell_type": "code",
   "execution_count": 76,
   "id": "afa0d1ba-dca6-42bb-9580-b9425bbf3a49",
   "metadata": {
    "tags": []
   },
   "outputs": [
    {
     "name": "stdout",
     "output_type": "stream",
     "text": [
      "2\n",
      "1\n"
     ]
    },
    {
     "ename": "NameError",
     "evalue": "name 'local_' is not defined",
     "output_type": "error",
     "traceback": [
      "\u001b[1;31m---------------------------------------------------------------------------\u001b[0m",
      "\u001b[1;31mNameError\u001b[0m                                 Traceback (most recent call last)",
      "Cell \u001b[1;32mIn[76], line 11\u001b[0m\n\u001b[0;32m      9\u001b[0m \u001b[38;5;28mprint\u001b[39m(f())\n\u001b[0;32m     10\u001b[0m \u001b[38;5;28mprint\u001b[39m(global_)\n\u001b[1;32m---> 11\u001b[0m \u001b[38;5;28mprint\u001b[39m(local_)\n",
      "\u001b[1;31mNameError\u001b[0m: name 'local_' is not defined"
     ]
    }
   ],
   "source": [
    "#Scope\n",
    "\n",
    "global_ = 1\n",
    "\n",
    "def f():\n",
    "    local_ = 2 * global_\n",
    "    return local_\n",
    "\n",
    "print(f())\n",
    "print(global_)\n",
    "print(local_)"
   ]
  },
  {
   "cell_type": "code",
   "execution_count": 77,
   "id": "8c403db1-84f1-4bfc-8929-6c0dff1f227c",
   "metadata": {
    "tags": []
   },
   "outputs": [
    {
     "name": "stdout",
     "output_type": "stream",
     "text": [
      "2\n",
      "1\n",
      "2\n"
     ]
    }
   ],
   "source": [
    "global_ = 1\n",
    "\n",
    "def f():\n",
    "    global local_\n",
    "    local_ = 2 * global_\n",
    "    return local_\n",
    "\n",
    "print(f())\n",
    "print(global_)\n",
    "print(local_)"
   ]
  },
  {
   "cell_type": "markdown",
   "id": "e6f7d2bc-a313-46df-9f11-87f0c790724b",
   "metadata": {},
   "source": [
    "Veiem els mètodes principals de qualsevol objecte"
   ]
  },
  {
   "cell_type": "code",
   "execution_count": 78,
   "id": "9bd63e21-206c-4d09-b7f7-3b85ec4a6b3c",
   "metadata": {
    "tags": []
   },
   "outputs": [
    {
     "data": {
      "text/plain": [
       "['__abs__',\n",
       " '__add__',\n",
       " '__and__',\n",
       " '__bool__',\n",
       " '__ceil__',\n",
       " '__class__',\n",
       " '__delattr__',\n",
       " '__dir__',\n",
       " '__divmod__',\n",
       " '__doc__',\n",
       " '__eq__',\n",
       " '__float__',\n",
       " '__floor__',\n",
       " '__floordiv__',\n",
       " '__format__',\n",
       " '__ge__',\n",
       " '__getattribute__',\n",
       " '__getnewargs__',\n",
       " '__getstate__',\n",
       " '__gt__',\n",
       " '__hash__',\n",
       " '__index__',\n",
       " '__init__',\n",
       " '__init_subclass__',\n",
       " '__int__',\n",
       " '__invert__',\n",
       " '__le__',\n",
       " '__lshift__',\n",
       " '__lt__',\n",
       " '__mod__',\n",
       " '__mul__',\n",
       " '__ne__',\n",
       " '__neg__',\n",
       " '__new__',\n",
       " '__or__',\n",
       " '__pos__',\n",
       " '__pow__',\n",
       " '__radd__',\n",
       " '__rand__',\n",
       " '__rdivmod__',\n",
       " '__reduce__',\n",
       " '__reduce_ex__',\n",
       " '__repr__',\n",
       " '__rfloordiv__',\n",
       " '__rlshift__',\n",
       " '__rmod__',\n",
       " '__rmul__',\n",
       " '__ror__',\n",
       " '__round__',\n",
       " '__rpow__',\n",
       " '__rrshift__',\n",
       " '__rshift__',\n",
       " '__rsub__',\n",
       " '__rtruediv__',\n",
       " '__rxor__',\n",
       " '__setattr__',\n",
       " '__sizeof__',\n",
       " '__str__',\n",
       " '__sub__',\n",
       " '__subclasshook__',\n",
       " '__truediv__',\n",
       " '__trunc__',\n",
       " '__xor__',\n",
       " 'as_integer_ratio',\n",
       " 'bit_count',\n",
       " 'bit_length',\n",
       " 'conjugate',\n",
       " 'denominator',\n",
       " 'from_bytes',\n",
       " 'imag',\n",
       " 'numerator',\n",
       " 'real',\n",
       " 'to_bytes']"
      ]
     },
     "execution_count": 78,
     "metadata": {},
     "output_type": "execute_result"
    }
   ],
   "source": [
    "nombre = 1\n",
    "dir(nombre)"
   ]
  },
  {
   "cell_type": "code",
   "execution_count": 80,
   "id": "11c5886e-b90a-4ad1-96f1-5d40983d06ed",
   "metadata": {
    "tags": []
   },
   "outputs": [
    {
     "name": "stdout",
     "output_type": "stream",
     "text": [
      "int([x]) -> integer\n",
      "int(x, base=10) -> integer\n",
      "\n",
      "Convert a number or string to an integer, or return 0 if no arguments\n",
      "are given.  If x is a number, return x.__int__().  For floating point\n",
      "numbers, this truncates towards zero.\n",
      "\n",
      "If x is not a number or if base is given, then x must be a string,\n",
      "bytes, or bytearray instance representing an integer literal in the\n",
      "given base.  The literal can be preceded by '+' or '-' and be surrounded\n",
      "by whitespace.  The base defaults to 10.  Valid bases are 0 and 2-36.\n",
      "Base 0 means to interpret the base from the string as an integer literal.\n",
      ">>> int('0b100', base=0)\n",
      "4\n"
     ]
    }
   ],
   "source": [
    "#v.__doc__ torna la informació del mètode\n",
    "print(nombre.__doc__)"
   ]
  },
  {
   "cell_type": "code",
   "execution_count": 82,
   "id": "c9ca2c03-9552-40eb-a851-d275bd91079a",
   "metadata": {
    "tags": []
   },
   "outputs": [
    {
     "name": "stdout",
     "output_type": "stream",
     "text": [
      "Help on int object:\n",
      "\n",
      "class int(object)\n",
      " |  int([x]) -> integer\n",
      " |  int(x, base=10) -> integer\n",
      " |  \n",
      " |  Convert a number or string to an integer, or return 0 if no arguments\n",
      " |  are given.  If x is a number, return x.__int__().  For floating point\n",
      " |  numbers, this truncates towards zero.\n",
      " |  \n",
      " |  If x is not a number or if base is given, then x must be a string,\n",
      " |  bytes, or bytearray instance representing an integer literal in the\n",
      " |  given base.  The literal can be preceded by '+' or '-' and be surrounded\n",
      " |  by whitespace.  The base defaults to 10.  Valid bases are 0 and 2-36.\n",
      " |  Base 0 means to interpret the base from the string as an integer literal.\n",
      " |  >>> int('0b100', base=0)\n",
      " |  4\n",
      " |  \n",
      " |  Built-in subclasses:\n",
      " |      bool\n",
      " |  \n",
      " |  Methods defined here:\n",
      " |  \n",
      " |  __abs__(self, /)\n",
      " |      abs(self)\n",
      " |  \n",
      " |  __add__(self, value, /)\n",
      " |      Return self+value.\n",
      " |  \n",
      " |  __and__(self, value, /)\n",
      " |      Return self&value.\n",
      " |  \n",
      " |  __bool__(self, /)\n",
      " |      True if self else False\n",
      " |  \n",
      " |  __ceil__(...)\n",
      " |      Ceiling of an Integral returns itself.\n",
      " |  \n",
      " |  __divmod__(self, value, /)\n",
      " |      Return divmod(self, value).\n",
      " |  \n",
      " |  __eq__(self, value, /)\n",
      " |      Return self==value.\n",
      " |  \n",
      " |  __float__(self, /)\n",
      " |      float(self)\n",
      " |  \n",
      " |  __floor__(...)\n",
      " |      Flooring an Integral returns itself.\n",
      " |  \n",
      " |  __floordiv__(self, value, /)\n",
      " |      Return self//value.\n",
      " |  \n",
      " |  __format__(self, format_spec, /)\n",
      " |      Default object formatter.\n",
      " |  \n",
      " |  __ge__(self, value, /)\n",
      " |      Return self>=value.\n",
      " |  \n",
      " |  __getattribute__(self, name, /)\n",
      " |      Return getattr(self, name).\n",
      " |  \n",
      " |  __getnewargs__(self, /)\n",
      " |  \n",
      " |  __gt__(self, value, /)\n",
      " |      Return self>value.\n",
      " |  \n",
      " |  __hash__(self, /)\n",
      " |      Return hash(self).\n",
      " |  \n",
      " |  __index__(self, /)\n",
      " |      Return self converted to an integer, if self is suitable for use as an index into a list.\n",
      " |  \n",
      " |  __int__(self, /)\n",
      " |      int(self)\n",
      " |  \n",
      " |  __invert__(self, /)\n",
      " |      ~self\n",
      " |  \n",
      " |  __le__(self, value, /)\n",
      " |      Return self<=value.\n",
      " |  \n",
      " |  __lshift__(self, value, /)\n",
      " |      Return self<<value.\n",
      " |  \n",
      " |  __lt__(self, value, /)\n",
      " |      Return self<value.\n",
      " |  \n",
      " |  __mod__(self, value, /)\n",
      " |      Return self%value.\n",
      " |  \n",
      " |  __mul__(self, value, /)\n",
      " |      Return self*value.\n",
      " |  \n",
      " |  __ne__(self, value, /)\n",
      " |      Return self!=value.\n",
      " |  \n",
      " |  __neg__(self, /)\n",
      " |      -self\n",
      " |  \n",
      " |  __or__(self, value, /)\n",
      " |      Return self|value.\n",
      " |  \n",
      " |  __pos__(self, /)\n",
      " |      +self\n",
      " |  \n",
      " |  __pow__(self, value, mod=None, /)\n",
      " |      Return pow(self, value, mod).\n",
      " |  \n",
      " |  __radd__(self, value, /)\n",
      " |      Return value+self.\n",
      " |  \n",
      " |  __rand__(self, value, /)\n",
      " |      Return value&self.\n",
      " |  \n",
      " |  __rdivmod__(self, value, /)\n",
      " |      Return divmod(value, self).\n",
      " |  \n",
      " |  __repr__(self, /)\n",
      " |      Return repr(self).\n",
      " |  \n",
      " |  __rfloordiv__(self, value, /)\n",
      " |      Return value//self.\n",
      " |  \n",
      " |  __rlshift__(self, value, /)\n",
      " |      Return value<<self.\n",
      " |  \n",
      " |  __rmod__(self, value, /)\n",
      " |      Return value%self.\n",
      " |  \n",
      " |  __rmul__(self, value, /)\n",
      " |      Return value*self.\n",
      " |  \n",
      " |  __ror__(self, value, /)\n",
      " |      Return value|self.\n",
      " |  \n",
      " |  __round__(...)\n",
      " |      Rounding an Integral returns itself.\n",
      " |      \n",
      " |      Rounding with an ndigits argument also returns an integer.\n",
      " |  \n",
      " |  __rpow__(self, value, mod=None, /)\n",
      " |      Return pow(value, self, mod).\n",
      " |  \n",
      " |  __rrshift__(self, value, /)\n",
      " |      Return value>>self.\n",
      " |  \n",
      " |  __rshift__(self, value, /)\n",
      " |      Return self>>value.\n",
      " |  \n",
      " |  __rsub__(self, value, /)\n",
      " |      Return value-self.\n",
      " |  \n",
      " |  __rtruediv__(self, value, /)\n",
      " |      Return value/self.\n",
      " |  \n",
      " |  __rxor__(self, value, /)\n",
      " |      Return value^self.\n",
      " |  \n",
      " |  __sizeof__(self, /)\n",
      " |      Returns size in memory, in bytes.\n",
      " |  \n",
      " |  __sub__(self, value, /)\n",
      " |      Return self-value.\n",
      " |  \n",
      " |  __truediv__(self, value, /)\n",
      " |      Return self/value.\n",
      " |  \n",
      " |  __trunc__(...)\n",
      " |      Truncating an Integral returns itself.\n",
      " |  \n",
      " |  __xor__(self, value, /)\n",
      " |      Return self^value.\n",
      " |  \n",
      " |  as_integer_ratio(self, /)\n",
      " |      Return integer ratio.\n",
      " |      \n",
      " |      Return a pair of integers, whose ratio is exactly equal to the original int\n",
      " |      and with a positive denominator.\n",
      " |      \n",
      " |      >>> (10).as_integer_ratio()\n",
      " |      (10, 1)\n",
      " |      >>> (-10).as_integer_ratio()\n",
      " |      (-10, 1)\n",
      " |      >>> (0).as_integer_ratio()\n",
      " |      (0, 1)\n",
      " |  \n",
      " |  bit_count(self, /)\n",
      " |      Number of ones in the binary representation of the absolute value of self.\n",
      " |      \n",
      " |      Also known as the population count.\n",
      " |      \n",
      " |      >>> bin(13)\n",
      " |      '0b1101'\n",
      " |      >>> (13).bit_count()\n",
      " |      3\n",
      " |  \n",
      " |  bit_length(self, /)\n",
      " |      Number of bits necessary to represent self in binary.\n",
      " |      \n",
      " |      >>> bin(37)\n",
      " |      '0b100101'\n",
      " |      >>> (37).bit_length()\n",
      " |      6\n",
      " |  \n",
      " |  conjugate(...)\n",
      " |      Returns self, the complex conjugate of any int.\n",
      " |  \n",
      " |  to_bytes(self, /, length=1, byteorder='big', *, signed=False)\n",
      " |      Return an array of bytes representing an integer.\n",
      " |      \n",
      " |      length\n",
      " |        Length of bytes object to use.  An OverflowError is raised if the\n",
      " |        integer is not representable with the given number of bytes.  Default\n",
      " |        is length 1.\n",
      " |      byteorder\n",
      " |        The byte order used to represent the integer.  If byteorder is 'big',\n",
      " |        the most significant byte is at the beginning of the byte array.  If\n",
      " |        byteorder is 'little', the most significant byte is at the end of the\n",
      " |        byte array.  To request the native byte order of the host system, use\n",
      " |        `sys.byteorder' as the byte order value.  Default is to use 'big'.\n",
      " |      signed\n",
      " |        Determines whether two's complement is used to represent the integer.\n",
      " |        If signed is False and a negative integer is given, an OverflowError\n",
      " |        is raised.\n",
      " |  \n",
      " |  ----------------------------------------------------------------------\n",
      " |  Class methods defined here:\n",
      " |  \n",
      " |  from_bytes(bytes, byteorder='big', *, signed=False) from builtins.type\n",
      " |      Return the integer represented by the given array of bytes.\n",
      " |      \n",
      " |      bytes\n",
      " |        Holds the array of bytes to convert.  The argument must either\n",
      " |        support the buffer protocol or be an iterable object producing bytes.\n",
      " |        Bytes and bytearray are examples of built-in objects that support the\n",
      " |        buffer protocol.\n",
      " |      byteorder\n",
      " |        The byte order used to represent the integer.  If byteorder is 'big',\n",
      " |        the most significant byte is at the beginning of the byte array.  If\n",
      " |        byteorder is 'little', the most significant byte is at the end of the\n",
      " |        byte array.  To request the native byte order of the host system, use\n",
      " |        `sys.byteorder' as the byte order value.  Default is to use 'big'.\n",
      " |      signed\n",
      " |        Indicates whether two's complement is used to represent the integer.\n",
      " |  \n",
      " |  ----------------------------------------------------------------------\n",
      " |  Static methods defined here:\n",
      " |  \n",
      " |  __new__(*args, **kwargs) from builtins.type\n",
      " |      Create and return a new object.  See help(type) for accurate signature.\n",
      " |  \n",
      " |  ----------------------------------------------------------------------\n",
      " |  Data descriptors defined here:\n",
      " |  \n",
      " |  denominator\n",
      " |      the denominator of a rational number in lowest terms\n",
      " |  \n",
      " |  imag\n",
      " |      the imaginary part of a complex number\n",
      " |  \n",
      " |  numerator\n",
      " |      the numerator of a rational number in lowest terms\n",
      " |  \n",
      " |  real\n",
      " |      the real part of a complex number\n",
      "\n"
     ]
    }
   ],
   "source": [
    "help(nombre) #o empram funció help"
   ]
  },
  {
   "cell_type": "code",
   "execution_count": 83,
   "id": "63da2e77-de0f-4dbb-98c5-31ab03ee0d40",
   "metadata": {
    "tags": []
   },
   "outputs": [
    {
     "data": {
      "text/plain": [
       "140719844922152"
      ]
     },
     "execution_count": 83,
     "metadata": {},
     "output_type": "execute_result"
    }
   ],
   "source": [
    "id(nombre)"
   ]
  },
  {
   "cell_type": "markdown",
   "id": "f313afb6-aaca-4480-99f3-44e5b5cec57c",
   "metadata": {},
   "source": [
    "## 2.3 Variable mutable o inmutable\n",
    "\n",
    "* Mutables: Llistes, diccionaris i conjunts (no frozenset)\n",
    "* Inmutables: Nombres (real, sencer, complex i boolea), cadenes i tuples"
   ]
  },
  {
   "cell_type": "code",
   "execution_count": null,
   "id": "ab3205bf-b3dd-4994-b6f8-a9d3c0bfadd2",
   "metadata": {},
   "outputs": [],
   "source": []
  }
 ],
 "metadata": {
  "kernelspec": {
   "display_name": "Python (3.11)",
   "language": "python",
   "name": "python3.11"
  },
  "language_info": {
   "codemirror_mode": {
    "name": "ipython",
    "version": 3
   },
   "file_extension": ".py",
   "mimetype": "text/x-python",
   "name": "python",
   "nbconvert_exporter": "python",
   "pygments_lexer": "ipython3",
   "version": "3.11.4"
  }
 },
 "nbformat": 4,
 "nbformat_minor": 5
}
