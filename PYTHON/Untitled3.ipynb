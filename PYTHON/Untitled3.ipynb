{
 "cells": [
  {
   "cell_type": "code",
   "execution_count": 15,
   "id": "76921b54-7ce7-4167-8797-dc1517ff6a86",
   "metadata": {
    "tags": []
   },
   "outputs": [
    {
     "data": {
      "text/plain": [
       "[['1',\n",
       "  '2023-09-16',\n",
       "  '2023-09-17',\n",
       "  'GRANVILLE',\n",
       "  \"Great ambiance indoors and attentive staff. Really great food. Right next to Cedars so lots of ambulance sirens, so eat inside if that bothers you. Be careful with the margarita. They must put ghost chili peppers in it because I couldn't feel my lips after one sip. Had to ditch it. But the Stroganoff and brownie dessert were terrific.\",\n",
       "  '8701 Beverly Blvd West Hollywood, CA 90048',\n",
       "  '4.4',\n",
       "  '2672',\n",
       "  'American (New), Cocktail Bars',\n",
       "  '$$'],\n",
       " ['1',\n",
       "  '2023-09-15',\n",
       "  '2023-09-17',\n",
       "  'GRANVILLE',\n",
       "  \"Wrong wrong wrong. \\xa0 AIf you don't fit the Ty as they will escort you out. \\xa0Don't drink here.\",\n",
       "  '8701 Beverly Blvd West Hollywood, CA 90048',\n",
       "  '4.4',\n",
       "  '2672',\n",
       "  'American (New), Cocktail Bars',\n",
       "  '$$']]"
      ]
     },
     "execution_count": 15,
     "metadata": {},
     "output_type": "execute_result"
    }
   ],
   "source": [
    "yelp = [['1',\n",
    "  '2023-09-16',\n",
    "  '2023-09-17',\n",
    "  'GRANVILLE',\n",
    "  \"Great ambiance indoors and attentive staff. Really great food. Right next to Cedars so lots of ambulance sirens, so eat inside if that bothers you. Be careful with the margarita. They must put ghost chili peppers in it because I couldn't feel my lips after one sip. Had to ditch it. But the Stroganoff and brownie dessert were terrific.\",\n",
    "  '8701 Beverly Blvd West Hollywood, CA 90048',\n",
    "  '4.4',\n",
    "  '2672',\n",
    "  'American (New), Cocktail Bars',\n",
    "  '$$'],\n",
    " ['1',\n",
    "  '2023-09-15',\n",
    "  '2023-09-17',\n",
    "  'GRANVILLE',\n",
    "  \"Wrong wrong wrong. \\xa0 AIf you don't fit the Ty as they will escort you out. \\xa0Don't drink here.\",\n",
    "  '8701 Beverly Blvd West Hollywood, CA 90048',\n",
    "  '4.4',\n",
    "  '2672',\n",
    "  'American (New), Cocktail Bars',\n",
    "  '$$']]\n",
    "yelp"
   ]
  },
  {
   "cell_type": "code",
   "execution_count": 9,
   "id": "d8dbda5e-bfbf-4983-9550-c0730a594e4a",
   "metadata": {
    "tags": []
   },
   "outputs": [
    {
     "name": "stdout",
     "output_type": "stream",
     "text": [
      "{'ID': '1', 'Fecha Inicial': '2023-09-16', 'Fecha Final': '2023-09-17', 'Nombre del Restaurante': 'GRANVILLE', 'Descripción': \"Great ambiance indoors and attentive staff. Really great food. Right next to Cedars so lots of ambulance sirens, so eat inside if that bothers you. Be careful with the margarita. They must put ghost chili peppers in it because I couldn't feel my lips after one sip. Had to ditch it. But the Stroganoff and brownie dessert were terrific.\", 'Dirección': '8701 Beverly Blvd West Hollywood, CA 90048', 'Calificación': '4.4', 'Número de Reseñas': '2672', 'Tipo de Cocina': 'American (New), Cocktail Bars', 'Precio': '$$'}\n",
      "{'ID': '1', 'Fecha Inicial': '2023-09-15', 'Fecha Final': '2023-09-17', 'Nombre del Restaurante': 'GRANVILLE', 'Descripción': \"Wrong wrong wrong. \\xa0 AIf you don't fit the Ty as they will escort you out. \\xa0Don't drink here.\", 'Dirección': '8701 Beverly Blvd West Hollywood, CA 90048', 'Calificación': '4.4', 'Número de Reseñas': '2672', 'Tipo de Cocina': 'American (New), Cocktail Bars', 'Precio': '$$'}\n"
     ]
    }
   ],
   "source": [
    "# Crear una lista de etiquetas para los campos\n",
    "etiquetas = ['ID', 'Fecha Inicial', 'Fecha Final', 'Nombre del Restaurante', 'Descripción', 'Dirección', 'Calificación', 'Número de Reseñas', 'Tipo de Cocina', 'Precio']\n",
    "\n",
    "# Convertir la lista bidimensional en una lista de diccionarios\n",
    "lista_de_diccionarios = [dict(zip(etiquetas, elemento)) for elemento in yelp]\n",
    "\n",
    "# Imprimir la lista de diccionarios resultante\n",
    "for diccionario in lista_de_diccionarios:\n",
    "    print(diccionario)"
   ]
  },
  {
   "cell_type": "code",
   "execution_count": null,
   "id": "cc89f893-bc64-4b75-9907-c7462eeebe40",
   "metadata": {},
   "outputs": [],
   "source": []
  },
  {
   "cell_type": "raw",
   "id": "4cc5956c-95ec-4f6e-ae09-1cd19ea334e8",
   "metadata": {},
   "source": []
  },
  {
   "cell_type": "code",
   "execution_count": 8,
   "id": "11cc09ad-3afe-46ae-ac3a-5e56736f457b",
   "metadata": {
    "tags": []
   },
   "outputs": [
    {
     "data": {
      "text/plain": [
       "[{'ID': '1',\n",
       "  'Fecha Inicial': '2023-09-16',\n",
       "  'Fecha Final': '2023-09-17',\n",
       "  'Nombre del Restaurante': 'GRANVILLE',\n",
       "  'Descripción': \"Great ambiance indoors and attentive staff. Really great food. Right next to Cedars so lots of ambulance sirens, so eat inside if that bothers you. Be careful with the margarita. They must put ghost chili peppers in it because I couldn't feel my lips after one sip. Had to ditch it. But the Stroganoff and brownie dessert were terrific.\",\n",
       "  'Dirección': '8701 Beverly Blvd West Hollywood, CA 90048',\n",
       "  'Calificación': '4.4',\n",
       "  'Número de Reseñas': '2672',\n",
       "  'Tipo de Cocina': 'American (New), Cocktail Bars',\n",
       "  'Precio': '$$'},\n",
       " {'ID': '1',\n",
       "  'Fecha Inicial': '2023-09-15',\n",
       "  'Fecha Final': '2023-09-17',\n",
       "  'Nombre del Restaurante': 'GRANVILLE',\n",
       "  'Descripción': \"Wrong wrong wrong. \\xa0 AIf you don't fit the Ty as they will escort you out. \\xa0Don't drink here.\",\n",
       "  'Dirección': '8701 Beverly Blvd West Hollywood, CA 90048',\n",
       "  'Calificación': '4.4',\n",
       "  'Número de Reseñas': '2672',\n",
       "  'Tipo de Cocina': 'American (New), Cocktail Bars',\n",
       "  'Precio': '$$'}]"
      ]
     },
     "execution_count": 8,
     "metadata": {},
     "output_type": "execute_result"
    }
   ],
   "source": [
    "lista_de_diccionarios"
   ]
  },
  {
   "cell_type": "code",
   "execution_count": 12,
   "id": "031a7ced-f9b9-4c47-a5c3-c0f94053f990",
   "metadata": {
    "tags": []
   },
   "outputs": [
    {
     "name": "stdout",
     "output_type": "stream",
     "text": [
      "ID: 1, Valor Concatenado: 2023-09-15 2023-09-17 GRANVILLE Wrong wrong wrong.   AIf you don't fit the Ty as they will escort you out.  Don't drink here. 8701 Beverly Blvd West Hollywood, CA 90048 4.4 2672 American (New), Cocktail Bars $$\n"
     ]
    }
   ],
   "source": [
    "# Crear un nuevo diccionario con la clave 'ID' y valor la concatenación de los valores anteriores\n",
    "nuevo_diccionario = {}\n",
    "for diccionario in lista_de_diccionarios:\n",
    "    id_restaurante = diccionario['ID']\n",
    "    valores = [diccionario[campo] for campo in etiquetas if campo != 'ID']  # Obtener todos los valores excepto 'ID'\n",
    "    nuevo_valor = ' '.join(valores)  # Concatenar los valores en un solo string\n",
    "    nuevo_diccionario[id_restaurante] = nuevo_valor\n",
    "\n",
    "# Imprimir el nuevo diccionario\n",
    "for id_restaurante, valor_concatenado in nuevo_diccionario.items():\n",
    "    print(f'ID: {id_restaurante}, Valor Concatenado: {valor_concatenado}')\n"
   ]
  },
  {
   "cell_type": "code",
   "execution_count": 13,
   "id": "06a7ffa5-21e0-48a9-9203-b25d7fd5c136",
   "metadata": {
    "tags": []
   },
   "outputs": [
    {
     "data": {
      "text/plain": [
       "{'1': \"2023-09-15 2023-09-17 GRANVILLE Wrong wrong wrong. \\xa0 AIf you don't fit the Ty as they will escort you out. \\xa0Don't drink here. 8701 Beverly Blvd West Hollywood, CA 90048 4.4 2672 American (New), Cocktail Bars $$\"}"
      ]
     },
     "execution_count": 13,
     "metadata": {},
     "output_type": "execute_result"
    }
   ],
   "source": [
    "nuevo_diccionario"
   ]
  }
 ],
 "metadata": {
  "kernelspec": {
   "display_name": "Python 3 (ipykernel)",
   "language": "python",
   "name": "python3"
  },
  "language_info": {
   "codemirror_mode": {
    "name": "ipython",
    "version": 3
   },
   "file_extension": ".py",
   "mimetype": "text/x-python",
   "name": "python",
   "nbconvert_exporter": "python",
   "pygments_lexer": "ipython3",
   "version": "3.11.5"
  }
 },
 "nbformat": 4,
 "nbformat_minor": 5
}
